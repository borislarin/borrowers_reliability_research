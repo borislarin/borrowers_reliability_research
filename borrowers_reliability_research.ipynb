{
 "cells": [
  {
   "cell_type": "markdown",
   "metadata": {},
   "source": [
    "---\n",
    "\n",
    "## Исследование надёжности заёмщиков — анализ банковских данных\n",
    "\n",
    "---\n",
    "\n",
    "<u>**Цель проекта**</u>: исследование факторов, влияющих на на факт погашения кредита в срок.\n",
    "\n",
    "<u>**Сферы деятельности компаний**</u>: банковская сфера, кредитование.\n",
    "\n",
    "<u>**Навыки и инструменты**</u>: Pandas, PyMystem3, Python, лемматизация, предобработка данных\n"
   ]
  },
  {
   "cell_type": "markdown",
   "metadata": {},
   "source": [
    "### 1. Получение общей информации "
   ]
  },
  {
   "cell_type": "code",
   "execution_count": 1,
   "metadata": {},
   "outputs": [],
   "source": [
    "import pandas as pd\n",
    "import numpy as np\n",
    "import pymystem3\n",
    "from pymystem3 import Mystem"
   ]
  },
  {
   "cell_type": "markdown",
   "metadata": {},
   "source": [
    "Получим общую информацию о данных в файле:"
   ]
  },
  {
   "cell_type": "code",
   "execution_count": 2,
   "metadata": {},
   "outputs": [],
   "source": [
    "data = pd.read_csv(...)"
   ]
  },
  {
   "cell_type": "code",
   "execution_count": 3,
   "metadata": {},
   "outputs": [
    {
     "name": "stdout",
     "output_type": "stream",
     "text": [
      "<class 'pandas.core.frame.DataFrame'>\n",
      "RangeIndex: 21525 entries, 0 to 21524\n",
      "Data columns (total 12 columns):\n",
      " #   Column            Non-Null Count  Dtype  \n",
      "---  ------            --------------  -----  \n",
      " 0   children          21525 non-null  int64  \n",
      " 1   days_employed     19351 non-null  float64\n",
      " 2   dob_years         21525 non-null  int64  \n",
      " 3   education         21525 non-null  object \n",
      " 4   education_id      21525 non-null  int64  \n",
      " 5   family_status     21525 non-null  object \n",
      " 6   family_status_id  21525 non-null  int64  \n",
      " 7   gender            21525 non-null  object \n",
      " 8   income_type       21525 non-null  object \n",
      " 9   debt              21525 non-null  int64  \n",
      " 10  total_income      19351 non-null  float64\n",
      " 11  purpose           21525 non-null  object \n",
      "dtypes: float64(2), int64(5), object(5)\n",
      "memory usage: 2.0+ MB\n"
     ]
    }
   ],
   "source": [
    "data.info()"
   ]
  },
  {
   "cell_type": "markdown",
   "metadata": {},
   "source": [
    "Сразу обращают на себя внимание **пропуски** в стоблцах *'days_employed'* и *'total_income'*. Очевидно, природа появления пропусков в этих двух столбцах одинакова."
   ]
  },
  {
   "cell_type": "code",
   "execution_count": 4,
   "metadata": {},
   "outputs": [
    {
     "name": "stdout",
     "output_type": "stream",
     "text": [
      "Доля строк, имеющих пропуски данных: 10%\n"
     ]
    }
   ],
   "source": [
    "print('Доля строк, имеющих пропуски данных: {:.0%}'\n",
    "      .format(data.isna()['days_employed'].sum()\n",
    "              / data['children'].count()))"
   ]
  },
  {
   "cell_type": "markdown",
   "metadata": {},
   "source": [
    "Предстоит заполнение пропусков: 10% — существенная доля."
   ]
  },
  {
   "cell_type": "markdown",
   "metadata": {},
   "source": [
    "Получим первые 10 строк таблицы:"
   ]
  },
  {
   "cell_type": "code",
   "execution_count": 5,
   "metadata": {
    "scrolled": false
   },
   "outputs": [
    {
     "data": {
      "text/html": [
       "<div>\n",
       "<style scoped>\n",
       "    .dataframe tbody tr th:only-of-type {\n",
       "        vertical-align: middle;\n",
       "    }\n",
       "\n",
       "    .dataframe tbody tr th {\n",
       "        vertical-align: top;\n",
       "    }\n",
       "\n",
       "    .dataframe thead th {\n",
       "        text-align: right;\n",
       "    }\n",
       "</style>\n",
       "<table border=\"1\" class=\"dataframe\">\n",
       "  <thead>\n",
       "    <tr style=\"text-align: right;\">\n",
       "      <th></th>\n",
       "      <th>children</th>\n",
       "      <th>days_employed</th>\n",
       "      <th>dob_years</th>\n",
       "      <th>education</th>\n",
       "      <th>education_id</th>\n",
       "      <th>family_status</th>\n",
       "      <th>family_status_id</th>\n",
       "      <th>gender</th>\n",
       "      <th>income_type</th>\n",
       "      <th>debt</th>\n",
       "      <th>total_income</th>\n",
       "      <th>purpose</th>\n",
       "    </tr>\n",
       "  </thead>\n",
       "  <tbody>\n",
       "    <tr>\n",
       "      <th>0</th>\n",
       "      <td>1</td>\n",
       "      <td>-8437.673028</td>\n",
       "      <td>42</td>\n",
       "      <td>высшее</td>\n",
       "      <td>0</td>\n",
       "      <td>женат / замужем</td>\n",
       "      <td>0</td>\n",
       "      <td>F</td>\n",
       "      <td>сотрудник</td>\n",
       "      <td>0</td>\n",
       "      <td>253875.639453</td>\n",
       "      <td>покупка жилья</td>\n",
       "    </tr>\n",
       "    <tr>\n",
       "      <th>1</th>\n",
       "      <td>1</td>\n",
       "      <td>-4024.803754</td>\n",
       "      <td>36</td>\n",
       "      <td>среднее</td>\n",
       "      <td>1</td>\n",
       "      <td>женат / замужем</td>\n",
       "      <td>0</td>\n",
       "      <td>F</td>\n",
       "      <td>сотрудник</td>\n",
       "      <td>0</td>\n",
       "      <td>112080.014102</td>\n",
       "      <td>приобретение автомобиля</td>\n",
       "    </tr>\n",
       "    <tr>\n",
       "      <th>2</th>\n",
       "      <td>0</td>\n",
       "      <td>-5623.422610</td>\n",
       "      <td>33</td>\n",
       "      <td>Среднее</td>\n",
       "      <td>1</td>\n",
       "      <td>женат / замужем</td>\n",
       "      <td>0</td>\n",
       "      <td>M</td>\n",
       "      <td>сотрудник</td>\n",
       "      <td>0</td>\n",
       "      <td>145885.952297</td>\n",
       "      <td>покупка жилья</td>\n",
       "    </tr>\n",
       "    <tr>\n",
       "      <th>3</th>\n",
       "      <td>3</td>\n",
       "      <td>-4124.747207</td>\n",
       "      <td>32</td>\n",
       "      <td>среднее</td>\n",
       "      <td>1</td>\n",
       "      <td>женат / замужем</td>\n",
       "      <td>0</td>\n",
       "      <td>M</td>\n",
       "      <td>сотрудник</td>\n",
       "      <td>0</td>\n",
       "      <td>267628.550329</td>\n",
       "      <td>дополнительное образование</td>\n",
       "    </tr>\n",
       "    <tr>\n",
       "      <th>4</th>\n",
       "      <td>0</td>\n",
       "      <td>340266.072047</td>\n",
       "      <td>53</td>\n",
       "      <td>среднее</td>\n",
       "      <td>1</td>\n",
       "      <td>гражданский брак</td>\n",
       "      <td>1</td>\n",
       "      <td>F</td>\n",
       "      <td>пенсионер</td>\n",
       "      <td>0</td>\n",
       "      <td>158616.077870</td>\n",
       "      <td>сыграть свадьбу</td>\n",
       "    </tr>\n",
       "    <tr>\n",
       "      <th>5</th>\n",
       "      <td>0</td>\n",
       "      <td>-926.185831</td>\n",
       "      <td>27</td>\n",
       "      <td>высшее</td>\n",
       "      <td>0</td>\n",
       "      <td>гражданский брак</td>\n",
       "      <td>1</td>\n",
       "      <td>M</td>\n",
       "      <td>компаньон</td>\n",
       "      <td>0</td>\n",
       "      <td>255763.565419</td>\n",
       "      <td>покупка жилья</td>\n",
       "    </tr>\n",
       "    <tr>\n",
       "      <th>6</th>\n",
       "      <td>0</td>\n",
       "      <td>-2879.202052</td>\n",
       "      <td>43</td>\n",
       "      <td>высшее</td>\n",
       "      <td>0</td>\n",
       "      <td>женат / замужем</td>\n",
       "      <td>0</td>\n",
       "      <td>F</td>\n",
       "      <td>компаньон</td>\n",
       "      <td>0</td>\n",
       "      <td>240525.971920</td>\n",
       "      <td>операции с жильем</td>\n",
       "    </tr>\n",
       "    <tr>\n",
       "      <th>7</th>\n",
       "      <td>0</td>\n",
       "      <td>-152.779569</td>\n",
       "      <td>50</td>\n",
       "      <td>СРЕДНЕЕ</td>\n",
       "      <td>1</td>\n",
       "      <td>женат / замужем</td>\n",
       "      <td>0</td>\n",
       "      <td>M</td>\n",
       "      <td>сотрудник</td>\n",
       "      <td>0</td>\n",
       "      <td>135823.934197</td>\n",
       "      <td>образование</td>\n",
       "    </tr>\n",
       "    <tr>\n",
       "      <th>8</th>\n",
       "      <td>2</td>\n",
       "      <td>-6929.865299</td>\n",
       "      <td>35</td>\n",
       "      <td>ВЫСШЕЕ</td>\n",
       "      <td>0</td>\n",
       "      <td>гражданский брак</td>\n",
       "      <td>1</td>\n",
       "      <td>F</td>\n",
       "      <td>сотрудник</td>\n",
       "      <td>0</td>\n",
       "      <td>95856.832424</td>\n",
       "      <td>на проведение свадьбы</td>\n",
       "    </tr>\n",
       "    <tr>\n",
       "      <th>9</th>\n",
       "      <td>0</td>\n",
       "      <td>-2188.756445</td>\n",
       "      <td>41</td>\n",
       "      <td>среднее</td>\n",
       "      <td>1</td>\n",
       "      <td>женат / замужем</td>\n",
       "      <td>0</td>\n",
       "      <td>M</td>\n",
       "      <td>сотрудник</td>\n",
       "      <td>0</td>\n",
       "      <td>144425.938277</td>\n",
       "      <td>покупка жилья для семьи</td>\n",
       "    </tr>\n",
       "  </tbody>\n",
       "</table>\n",
       "</div>"
      ],
      "text/plain": [
       "   children  days_employed  dob_years education  education_id  \\\n",
       "0         1   -8437.673028         42    высшее             0   \n",
       "1         1   -4024.803754         36   среднее             1   \n",
       "2         0   -5623.422610         33   Среднее             1   \n",
       "3         3   -4124.747207         32   среднее             1   \n",
       "4         0  340266.072047         53   среднее             1   \n",
       "5         0    -926.185831         27    высшее             0   \n",
       "6         0   -2879.202052         43    высшее             0   \n",
       "7         0    -152.779569         50   СРЕДНЕЕ             1   \n",
       "8         2   -6929.865299         35    ВЫСШЕЕ             0   \n",
       "9         0   -2188.756445         41   среднее             1   \n",
       "\n",
       "      family_status  family_status_id gender income_type  debt   total_income  \\\n",
       "0   женат / замужем                 0      F   сотрудник     0  253875.639453   \n",
       "1   женат / замужем                 0      F   сотрудник     0  112080.014102   \n",
       "2   женат / замужем                 0      M   сотрудник     0  145885.952297   \n",
       "3   женат / замужем                 0      M   сотрудник     0  267628.550329   \n",
       "4  гражданский брак                 1      F   пенсионер     0  158616.077870   \n",
       "5  гражданский брак                 1      M   компаньон     0  255763.565419   \n",
       "6   женат / замужем                 0      F   компаньон     0  240525.971920   \n",
       "7   женат / замужем                 0      M   сотрудник     0  135823.934197   \n",
       "8  гражданский брак                 1      F   сотрудник     0   95856.832424   \n",
       "9   женат / замужем                 0      M   сотрудник     0  144425.938277   \n",
       "\n",
       "                      purpose  \n",
       "0               покупка жилья  \n",
       "1     приобретение автомобиля  \n",
       "2               покупка жилья  \n",
       "3  дополнительное образование  \n",
       "4             сыграть свадьбу  \n",
       "5               покупка жилья  \n",
       "6           операции с жильем  \n",
       "7                 образование  \n",
       "8       на проведение свадьбы  \n",
       "9     покупка жилья для семьи  "
      ]
     },
     "execution_count": 5,
     "metadata": {},
     "output_type": "execute_result"
    }
   ],
   "source": [
    "data.head(10)"
   ]
  },
  {
   "cell_type": "markdown",
   "metadata": {},
   "source": [
    "Получим минимальные и максимальные значения количественных переменных:"
   ]
  },
  {
   "cell_type": "code",
   "execution_count": 6,
   "metadata": {},
   "outputs": [
    {
     "name": "stdout",
     "output_type": "stream",
     "text": [
      "Минимальное количество детей: -1;\n",
      "Максимальное количество детей: 20;\n"
     ]
    }
   ],
   "source": [
    "print('Минимальное количество детей: {:.0f};'.format(data['children'].min()))\n",
    "print('Максимальное количество детей: {:.0f};'.format(data['children'].max()))"
   ]
  },
  {
   "cell_type": "markdown",
   "metadata": {},
   "source": [
    "Некоторые клиенты банка имеют **отрицательное количество детей**. Возможно, данная аномалия была вызвана опечатками при вводе данных.\n",
    "20 детей — это сильно, но (при определённых обстоятельствах :D) возможно, поэтому оставим строки с этим значением в выборке."
   ]
  },
  {
   "cell_type": "markdown",
   "metadata": {},
   "source": [
    "Объявим для удобства две функции автоматической адаптации слов \"*день*\" и \"*год*\" к стоящим перед ними числовым значениям:"
   ]
  },
  {
   "cell_type": "code",
   "execution_count": 7,
   "metadata": {},
   "outputs": [],
   "source": [
    "def days_number(days):\n",
    "    days_ending = ['день', 'дня', 'дней']\n",
    "    if days % 10 == 1 and days % 100 != 11:\n",
    "        p = 0\n",
    "    elif (2 <= days%10 <= 4) and (days%100 < 10 or days%100 >= 20):\n",
    "        p = 1\n",
    "    else:\n",
    "        p = 2\n",
    "    return str(days)+' '+days_ending[p]\n",
    "\n",
    "def years_number(years):\n",
    "    years_ending = ['год', 'года', 'лет']\n",
    "    if years%10 == 1 and years%100 != 11:\n",
    "        p = 0\n",
    "    elif years%10 <= 4 and years%10 != 0 and (years%100 < 10 or years%100 >=20):\n",
    "        p = 1\n",
    "    else:\n",
    "        p = 2\n",
    "    return str(years)+' '+years_ending[p]"
   ]
  },
  {
   "cell_type": "code",
   "execution_count": 8,
   "metadata": {},
   "outputs": [
    {
     "name": "stdout",
     "output_type": "stream",
     "text": [
      "Минимальный рабочий стаж: -18388.949900568383 дней;\n",
      "Максимальный рабочий стаж: 401755.40047533 дней;\n"
     ]
    }
   ],
   "source": [
    "print('Минимальный рабочий стаж: ', days_number(data['days_employed'].min()), ';', sep='')\n",
    "print('Максимальный рабочий стаж: ', days_number(data['days_employed'].max()), ';', sep='')"
   ]
  },
  {
   "cell_type": "markdown",
   "metadata": {},
   "source": [
    "\"Как хорошо ничего не делать, а потом отдохнуть\". Некоторые клиенты имеют **отрицательный стаж**, что, несомненно, является аномалией. Причина появления данной аномалии может быть связана с ошибкой в формуле, вычисляющей общий рабочий стаж путём вычитания даты и времени начала работы из даты и времени окончания."
   ]
  },
  {
   "cell_type": "code",
   "execution_count": 9,
   "metadata": {},
   "outputs": [
    {
     "name": "stdout",
     "output_type": "stream",
     "text": [
      "Максимальный рабочий стаж: 1101 год;\n"
     ]
    }
   ],
   "source": [
    "data_years_employed_max = int(round(data['days_employed'].max()/365))\n",
    "print('Максимальный рабочий стаж: ', years_number(data_years_employed_max), ';', sep='')"
   ]
  },
  {
   "cell_type": "markdown",
   "metadata": {},
   "source": [
    "Ещё одна аномалия. Только человек, сумевший обрести бессмертие, мог бы отдать работе **1101 год** своей жизни. Целесообразно в выборку не включать клиентов, чей стаж превышает разность максимального значения возраста клиентов в выборке и 18, то есть 57  лет."
   ]
  },
  {
   "cell_type": "code",
   "execution_count": 10,
   "metadata": {},
   "outputs": [
    {
     "name": "stdout",
     "output_type": "stream",
     "text": [
      "Минимальный возраст: 0 лет;\n",
      "Максимальный возраст: 75 лет;\n"
     ]
    }
   ],
   "source": [
    "print('Минимальный возраст: ',  years_number(data['dob_years'].min()), ';', sep='')\n",
    "print('Максимальный возраст: ', years_number(data['dob_years'].max()), ';', sep='')"
   ]
  },
  {
   "cell_type": "markdown",
   "metadata": {},
   "source": [
    "Из роддома — на работу! Поскольку для того, чтобы взять кредит, лицо должно быть дееспособным, необходимо исключить из выборки клиентов, **не достигших совершеннолетия**."
   ]
  },
  {
   "cell_type": "code",
   "execution_count": 11,
   "metadata": {},
   "outputs": [
    {
     "name": "stdout",
     "output_type": "stream",
     "text": [
      "Минимальный доход: 20667 руб.;\n",
      "Максимальный доход: 2265604 руб.;\n"
     ]
    }
   ],
   "source": [
    "print('Минимальный доход: {:.0f} руб.;'.format(data['total_income'].min()))\n",
    "print('Максимальный доход: {:.0f} руб.;'.format(data['total_income'].max()))"
   ]
  },
  {
   "cell_type": "markdown",
   "metadata": {},
   "source": [
    "С доходами обошлось без аномалий."
   ]
  },
  {
   "cell_type": "code",
   "execution_count": 12,
   "metadata": {},
   "outputs": [
    {
     "name": "stdout",
     "output_type": "stream",
     "text": [
      "Аномалии:\n",
      "Строки с отрицительными значениями количества детей: 47\n",
      "\n",
      "Строки со значениями возраста клиентов, меньшими 18 лет: 101\n",
      "Из них:\n",
      "Строки с нулевыми значениями возраста клиентов: 101\n"
     ]
    }
   ],
   "source": [
    "print('Аномалии:')\n",
    "print('Строки с отрицительными значениями количества детей:',\n",
    "      data[data['children'] == -1]['children'].count())\n",
    "print()\n",
    "print('Строки со значениями возраста клиентов, меньшими 18 лет:',\n",
    "      data[data['dob_years'] < 18]['dob_years'].count())\n",
    "print('Из них:')\n",
    "print('Строки с нулевыми значениями возраста клиентов:',\n",
    "      data[data['dob_years'] == 0]['dob_years'].count())"
   ]
  },
  {
   "cell_type": "markdown",
   "metadata": {},
   "source": [
    "### Вывод"
   ]
  },
  {
   "cell_type": "markdown",
   "metadata": {},
   "source": [
    "Данных много. Со стандартными именами стоблцов можно работать.\n",
    "\n",
    "В процессе изучения данных были выявлены следующие аномалии:\n",
    "\n",
    "- **Некоторые клиенты банка имеют отрицательное количество детей;**\n",
    "- **Имеются люди с отрицательным рабочим стажем;**\n",
    "- **Также имеются и люди, чей стаж заметно больше 80 лет;**\n",
    "- **Присутствуют несовершеннолетние.**\n",
    "\n",
    "Предстоит привести к адекватному виду значения в столбцах *'education'* и *'purpose'*, заменить отрицательные значения количества детей и дней рабочего стажа их модулями, а также исключить из выборки несовершеннолетних клиентов и людей, чей общий рабочий стаж превышает 80 лет."
   ]
  },
  {
   "cell_type": "markdown",
   "metadata": {},
   "source": [
    "### 2. Предобработка данных"
   ]
  },
  {
   "cell_type": "markdown",
   "metadata": {},
   "source": [
    "#### Обработка пропусков"
   ]
  },
  {
   "cell_type": "markdown",
   "metadata": {},
   "source": [
    "Вычислим **общее количество пропусков** в каждом стоблце:"
   ]
  },
  {
   "cell_type": "code",
   "execution_count": 13,
   "metadata": {},
   "outputs": [
    {
     "data": {
      "text/plain": [
       "children               0\n",
       "days_employed       2174\n",
       "dob_years              0\n",
       "education              0\n",
       "education_id           0\n",
       "family_status          0\n",
       "family_status_id       0\n",
       "gender                 0\n",
       "income_type            0\n",
       "debt                   0\n",
       "total_income        2174\n",
       "purpose                0\n",
       "dtype: int64"
      ]
     },
     "execution_count": 13,
     "metadata": {},
     "output_type": "execute_result"
    }
   ],
   "source": [
    "data.isnull().sum()"
   ]
  },
  {
   "cell_type": "markdown",
   "metadata": {},
   "source": [
    "Заменим значения столбца *'days_employed'* на их модули, чтобы устранить допущенную при сборе данных расчётную ошибку:"
   ]
  },
  {
   "cell_type": "code",
   "execution_count": 14,
   "metadata": {
    "scrolled": true
   },
   "outputs": [],
   "source": [
    "data['days_employed'] = data['days_employed'].apply(abs)"
   ]
  },
  {
   "cell_type": "markdown",
   "metadata": {},
   "source": [
    "Необходимо оценить, каков процент клиентов, чей рабочий стаж, согласно предоставленным данным, превышает 57 лет:"
   ]
  },
  {
   "cell_type": "code",
   "execution_count": 15,
   "metadata": {},
   "outputs": [
    {
     "name": "stdout",
     "output_type": "stream",
     "text": [
      "Доля клиентов с рабочим стажем выше 57 лет: 17.80%\n"
     ]
    }
   ],
   "source": [
    "max_days_employed = (75 - 18) * 365\n",
    "print('Доля клиентов с рабочим стажем выше 57 лет: {:.2%}'\n",
    "      .format(data[data['days_employed'] > max_days_employed]['days_employed'].count()\n",
    "              /data['days_employed'].count()))"
   ]
  },
  {
   "cell_type": "markdown",
   "metadata": {},
   "source": [
    "Найдём среднее значение рабочего стажа в выборке с учётом дополнительного условия, сделаем его целым, чтобы было проще работать со значениями:"
   ]
  },
  {
   "cell_type": "code",
   "execution_count": 16,
   "metadata": {},
   "outputs": [],
   "source": [
    "days_employed_mean = int(data[data['days_employed'] <= max_days_employed]['days_employed']\n",
    "                         .mean())"
   ]
  },
  {
   "cell_type": "markdown",
   "metadata": {},
   "source": [
    "Найдём медиану выборки с учётом дополнительного условия, также сделаем число целым:"
   ]
  },
  {
   "cell_type": "code",
   "execution_count": 17,
   "metadata": {},
   "outputs": [],
   "source": [
    "days_employed_median = int(data[data['days_employed'] <= max_days_employed]['days_employed']\n",
    "                           .median())"
   ]
  },
  {
   "cell_type": "markdown",
   "metadata": {},
   "source": [
    "Заменим неудовлетворяющие дополнительному условию значения медианными:"
   ]
  },
  {
   "cell_type": "code",
   "execution_count": 18,
   "metadata": {},
   "outputs": [],
   "source": [
    "for i in data:\n",
    "    data.loc[data['days_employed'] > max_days_employed, 'days_employed'] = days_employed_median"
   ]
  },
  {
   "cell_type": "markdown",
   "metadata": {},
   "source": [
    "Убедимся, что теперь максимальное значение удовлетворяет дополнительному условию:"
   ]
  },
  {
   "cell_type": "code",
   "execution_count": 19,
   "metadata": {},
   "outputs": [
    {
     "name": "stdout",
     "output_type": "stream",
     "text": [
      "Максимальный рабочий стаж: 50 лет;\n"
     ]
    }
   ],
   "source": [
    "data_years_employed_max = int(round(data['days_employed'].max()/365))\n",
    "print('Максимальный рабочий стаж: ', years_number(data_years_employed_max), ';', sep='')"
   ]
  },
  {
   "cell_type": "markdown",
   "metadata": {},
   "source": [
    "Выведем на экран **минимум**, **максимум**, **математическое ожидание** и **медиану**:"
   ]
  },
  {
   "cell_type": "code",
   "execution_count": 20,
   "metadata": {},
   "outputs": [
    {
     "name": "stdout",
     "output_type": "stream",
     "text": [
      "Минимальный рабочий стаж: 24 дня;\n",
      "Максимальный рабочий стаж: 18388 дней;\n",
      "Средний рабочий стаж: 2353 дня;\n",
      "Медианное значение рабочего стажа: 1630 дней;\n"
     ]
    }
   ],
   "source": [
    "days_employed_min = int(data['days_employed'].min())\n",
    "days_employed_max = int(data['days_employed'].max())\n",
    "\n",
    "print('Минимальный рабочий стаж: ', days_number(days_employed_min), ';', sep='')\n",
    "print('Максимальный рабочий стаж: ', days_number(days_employed_max), ';', sep='')\n",
    "print('Средний рабочий стаж: ', days_number(days_employed_mean), ';', sep='')\n",
    "print('Медианное значение рабочего стажа: ', days_number(days_employed_median), ';', sep='')"
   ]
  },
  {
   "cell_type": "markdown",
   "metadata": {},
   "source": [
    "Аналогичные операции проведём и со столбцом *'total_income'*:"
   ]
  },
  {
   "cell_type": "code",
   "execution_count": 21,
   "metadata": {},
   "outputs": [
    {
     "name": "stdout",
     "output_type": "stream",
     "text": [
      "Минимальный общий доход: 20667 руб.\n",
      "Максимальный общий доход: 2265604 руб.\n",
      "Среднее значение общего дохода: 167422 руб.\n",
      "Медианное значение общего дохода: 145017 руб.\n"
     ]
    }
   ],
   "source": [
    "total_income_mean = int(data['total_income'].mean())\n",
    "total_income_median = int(data['total_income'].median())\n",
    "print('Минимальный общий доход: {:.0f}'.format(data['total_income'].min()), 'руб.')\n",
    "print('Максимальный общий доход: {:.0f}'.format(data['total_income'].max()), 'руб.')\n",
    "print('Среднее значение общего дохода:', total_income_mean, 'руб.')\n",
    "print('Медианное значение общего дохода:', total_income_median, 'руб.')"
   ]
  },
  {
   "cell_type": "markdown",
   "metadata": {},
   "source": [
    "**Заполним пропуски характерными для данной выборки значениями**. С учётом большой разницы между минимальным и максимальным значениями, в качестве характерных целесообразно использовать медианные значения выборки:"
   ]
  },
  {
   "cell_type": "code",
   "execution_count": 22,
   "metadata": {},
   "outputs": [],
   "source": [
    "data['days_employed'] = data['days_employed'].fillna(days_employed_median)\n",
    "data['total_income'] = data['total_income'].fillna(total_income_median)"
   ]
  },
  {
   "cell_type": "markdown",
   "metadata": {},
   "source": [
    "Целые рабочие дни смотрятся приятнее:"
   ]
  },
  {
   "cell_type": "code",
   "execution_count": 23,
   "metadata": {},
   "outputs": [],
   "source": [
    "data['days_employed'] = data['days_employed'].astype('int')\n",
    "data['total_income'] = data['total_income'].astype('int')"
   ]
  },
  {
   "cell_type": "markdown",
   "metadata": {},
   "source": [
    "Выведем на экран первые 10 строк получившейся таблицы:"
   ]
  },
  {
   "cell_type": "code",
   "execution_count": 24,
   "metadata": {
    "scrolled": false
   },
   "outputs": [
    {
     "data": {
      "text/html": [
       "<div>\n",
       "<style scoped>\n",
       "    .dataframe tbody tr th:only-of-type {\n",
       "        vertical-align: middle;\n",
       "    }\n",
       "\n",
       "    .dataframe tbody tr th {\n",
       "        vertical-align: top;\n",
       "    }\n",
       "\n",
       "    .dataframe thead th {\n",
       "        text-align: right;\n",
       "    }\n",
       "</style>\n",
       "<table border=\"1\" class=\"dataframe\">\n",
       "  <thead>\n",
       "    <tr style=\"text-align: right;\">\n",
       "      <th></th>\n",
       "      <th>children</th>\n",
       "      <th>days_employed</th>\n",
       "      <th>dob_years</th>\n",
       "      <th>education</th>\n",
       "      <th>education_id</th>\n",
       "      <th>family_status</th>\n",
       "      <th>family_status_id</th>\n",
       "      <th>gender</th>\n",
       "      <th>income_type</th>\n",
       "      <th>debt</th>\n",
       "      <th>total_income</th>\n",
       "      <th>purpose</th>\n",
       "    </tr>\n",
       "  </thead>\n",
       "  <tbody>\n",
       "    <tr>\n",
       "      <th>0</th>\n",
       "      <td>1</td>\n",
       "      <td>8437</td>\n",
       "      <td>42</td>\n",
       "      <td>высшее</td>\n",
       "      <td>0</td>\n",
       "      <td>женат / замужем</td>\n",
       "      <td>0</td>\n",
       "      <td>F</td>\n",
       "      <td>сотрудник</td>\n",
       "      <td>0</td>\n",
       "      <td>253875</td>\n",
       "      <td>покупка жилья</td>\n",
       "    </tr>\n",
       "    <tr>\n",
       "      <th>1</th>\n",
       "      <td>1</td>\n",
       "      <td>4024</td>\n",
       "      <td>36</td>\n",
       "      <td>среднее</td>\n",
       "      <td>1</td>\n",
       "      <td>женат / замужем</td>\n",
       "      <td>0</td>\n",
       "      <td>F</td>\n",
       "      <td>сотрудник</td>\n",
       "      <td>0</td>\n",
       "      <td>112080</td>\n",
       "      <td>приобретение автомобиля</td>\n",
       "    </tr>\n",
       "    <tr>\n",
       "      <th>2</th>\n",
       "      <td>0</td>\n",
       "      <td>5623</td>\n",
       "      <td>33</td>\n",
       "      <td>Среднее</td>\n",
       "      <td>1</td>\n",
       "      <td>женат / замужем</td>\n",
       "      <td>0</td>\n",
       "      <td>M</td>\n",
       "      <td>сотрудник</td>\n",
       "      <td>0</td>\n",
       "      <td>145885</td>\n",
       "      <td>покупка жилья</td>\n",
       "    </tr>\n",
       "    <tr>\n",
       "      <th>3</th>\n",
       "      <td>3</td>\n",
       "      <td>4124</td>\n",
       "      <td>32</td>\n",
       "      <td>среднее</td>\n",
       "      <td>1</td>\n",
       "      <td>женат / замужем</td>\n",
       "      <td>0</td>\n",
       "      <td>M</td>\n",
       "      <td>сотрудник</td>\n",
       "      <td>0</td>\n",
       "      <td>267628</td>\n",
       "      <td>дополнительное образование</td>\n",
       "    </tr>\n",
       "    <tr>\n",
       "      <th>4</th>\n",
       "      <td>0</td>\n",
       "      <td>1630</td>\n",
       "      <td>53</td>\n",
       "      <td>среднее</td>\n",
       "      <td>1</td>\n",
       "      <td>гражданский брак</td>\n",
       "      <td>1</td>\n",
       "      <td>F</td>\n",
       "      <td>пенсионер</td>\n",
       "      <td>0</td>\n",
       "      <td>158616</td>\n",
       "      <td>сыграть свадьбу</td>\n",
       "    </tr>\n",
       "    <tr>\n",
       "      <th>5</th>\n",
       "      <td>0</td>\n",
       "      <td>926</td>\n",
       "      <td>27</td>\n",
       "      <td>высшее</td>\n",
       "      <td>0</td>\n",
       "      <td>гражданский брак</td>\n",
       "      <td>1</td>\n",
       "      <td>M</td>\n",
       "      <td>компаньон</td>\n",
       "      <td>0</td>\n",
       "      <td>255763</td>\n",
       "      <td>покупка жилья</td>\n",
       "    </tr>\n",
       "    <tr>\n",
       "      <th>6</th>\n",
       "      <td>0</td>\n",
       "      <td>2879</td>\n",
       "      <td>43</td>\n",
       "      <td>высшее</td>\n",
       "      <td>0</td>\n",
       "      <td>женат / замужем</td>\n",
       "      <td>0</td>\n",
       "      <td>F</td>\n",
       "      <td>компаньон</td>\n",
       "      <td>0</td>\n",
       "      <td>240525</td>\n",
       "      <td>операции с жильем</td>\n",
       "    </tr>\n",
       "    <tr>\n",
       "      <th>7</th>\n",
       "      <td>0</td>\n",
       "      <td>152</td>\n",
       "      <td>50</td>\n",
       "      <td>СРЕДНЕЕ</td>\n",
       "      <td>1</td>\n",
       "      <td>женат / замужем</td>\n",
       "      <td>0</td>\n",
       "      <td>M</td>\n",
       "      <td>сотрудник</td>\n",
       "      <td>0</td>\n",
       "      <td>135823</td>\n",
       "      <td>образование</td>\n",
       "    </tr>\n",
       "    <tr>\n",
       "      <th>8</th>\n",
       "      <td>2</td>\n",
       "      <td>6929</td>\n",
       "      <td>35</td>\n",
       "      <td>ВЫСШЕЕ</td>\n",
       "      <td>0</td>\n",
       "      <td>гражданский брак</td>\n",
       "      <td>1</td>\n",
       "      <td>F</td>\n",
       "      <td>сотрудник</td>\n",
       "      <td>0</td>\n",
       "      <td>95856</td>\n",
       "      <td>на проведение свадьбы</td>\n",
       "    </tr>\n",
       "    <tr>\n",
       "      <th>9</th>\n",
       "      <td>0</td>\n",
       "      <td>2188</td>\n",
       "      <td>41</td>\n",
       "      <td>среднее</td>\n",
       "      <td>1</td>\n",
       "      <td>женат / замужем</td>\n",
       "      <td>0</td>\n",
       "      <td>M</td>\n",
       "      <td>сотрудник</td>\n",
       "      <td>0</td>\n",
       "      <td>144425</td>\n",
       "      <td>покупка жилья для семьи</td>\n",
       "    </tr>\n",
       "  </tbody>\n",
       "</table>\n",
       "</div>"
      ],
      "text/plain": [
       "   children  days_employed  dob_years education  education_id  \\\n",
       "0         1           8437         42    высшее             0   \n",
       "1         1           4024         36   среднее             1   \n",
       "2         0           5623         33   Среднее             1   \n",
       "3         3           4124         32   среднее             1   \n",
       "4         0           1630         53   среднее             1   \n",
       "5         0            926         27    высшее             0   \n",
       "6         0           2879         43    высшее             0   \n",
       "7         0            152         50   СРЕДНЕЕ             1   \n",
       "8         2           6929         35    ВЫСШЕЕ             0   \n",
       "9         0           2188         41   среднее             1   \n",
       "\n",
       "      family_status  family_status_id gender income_type  debt  total_income  \\\n",
       "0   женат / замужем                 0      F   сотрудник     0        253875   \n",
       "1   женат / замужем                 0      F   сотрудник     0        112080   \n",
       "2   женат / замужем                 0      M   сотрудник     0        145885   \n",
       "3   женат / замужем                 0      M   сотрудник     0        267628   \n",
       "4  гражданский брак                 1      F   пенсионер     0        158616   \n",
       "5  гражданский брак                 1      M   компаньон     0        255763   \n",
       "6   женат / замужем                 0      F   компаньон     0        240525   \n",
       "7   женат / замужем                 0      M   сотрудник     0        135823   \n",
       "8  гражданский брак                 1      F   сотрудник     0         95856   \n",
       "9   женат / замужем                 0      M   сотрудник     0        144425   \n",
       "\n",
       "                      purpose  \n",
       "0               покупка жилья  \n",
       "1     приобретение автомобиля  \n",
       "2               покупка жилья  \n",
       "3  дополнительное образование  \n",
       "4             сыграть свадьбу  \n",
       "5               покупка жилья  \n",
       "6           операции с жильем  \n",
       "7                 образование  \n",
       "8       на проведение свадьбы  \n",
       "9     покупка жилья для семьи  "
      ]
     },
     "execution_count": 24,
     "metadata": {},
     "output_type": "execute_result"
    }
   ],
   "source": [
    "data.head(10)"
   ]
  },
  {
   "cell_type": "markdown",
   "metadata": {},
   "source": [
    "Разберёмся со столбцами *'children'* и *'dob_years'*.\n",
    "Для начала **заменим отрицательные значения** в столбце *'children'* их модулями и убедимся, что отрицательных значений не осталось:"
   ]
  },
  {
   "cell_type": "code",
   "execution_count": 25,
   "metadata": {},
   "outputs": [
    {
     "name": "stdout",
     "output_type": "stream",
     "text": [
      "Минимальное количество детей: 0;\n",
      "\n"
     ]
    }
   ],
   "source": [
    "data['children'] = data['children'].apply(abs)\n",
    "print('Минимальное количество детей: {:.0f};'.format(data['children'].min()))\n",
    "print()"
   ]
  },
  {
   "cell_type": "markdown",
   "metadata": {},
   "source": [
    "Разберёмся с **возрастом** клиентов:"
   ]
  },
  {
   "cell_type": "code",
   "execution_count": 26,
   "metadata": {},
   "outputs": [
    {
     "name": "stdout",
     "output_type": "stream",
     "text": [
      "Доля строк со значениями возраста, не удовлетворяющими условию: 0.47%\n"
     ]
    }
   ],
   "source": [
    "print('Доля строк со значениями возраста, не удовлетворяющими условию: {:.2%}'\n",
    "      .format(data[data['dob_years'] == 0]['dob_years'].count() / data['dob_years'].count()))\n"
   ]
  },
  {
   "cell_type": "markdown",
   "metadata": {},
   "source": [
    "Очевидно, влияние таких строк на общую выборку минимально. Оставим в выборке только строки, значение возраста в которых не менее 18 лет. Убедимся, что минимальный возраст клиентов после удаления строк действительно соответствует нашим условиям:"
   ]
  },
  {
   "cell_type": "code",
   "execution_count": 27,
   "metadata": {},
   "outputs": [
    {
     "name": "stdout",
     "output_type": "stream",
     "text": [
      "Минимальный возраст клиентов: 19 лет.\n"
     ]
    }
   ],
   "source": [
    "data = data[data['dob_years'] >= 18]\n",
    "print('Минимальный возраст клиентов: ', years_number(data['dob_years'].min()), '.', sep='')"
   ]
  },
  {
   "cell_type": "markdown",
   "metadata": {},
   "source": [
    "Вычислим **математическое ожидание** и **медиану** для столбца *'dob_years'*:"
   ]
  },
  {
   "cell_type": "code",
   "execution_count": 28,
   "metadata": {},
   "outputs": [
    {
     "name": "stdout",
     "output_type": "stream",
     "text": [
      "Среднее значение возраста: 43 года;\n",
      "Медианное значение возраста: 43 года.\n"
     ]
    }
   ],
   "source": [
    "dob_years_mean = int(data[data['dob_years'] != 0]['dob_years'].mean())\n",
    "dob_years_median = int(data[data['dob_years'] != 0]['dob_years'].median())\n",
    "print('Среднее значение возраста: ',  years_number(dob_years_mean), ';', sep='')\n",
    "print('Медианное значение возраста: ',  years_number(dob_years_median), '.', sep='')"
   ]
  },
  {
   "cell_type": "markdown",
   "metadata": {},
   "source": [
    "Просмотрим первые 25 строк таблицы:"
   ]
  },
  {
   "cell_type": "code",
   "execution_count": 29,
   "metadata": {},
   "outputs": [
    {
     "data": {
      "text/html": [
       "<div>\n",
       "<style scoped>\n",
       "    .dataframe tbody tr th:only-of-type {\n",
       "        vertical-align: middle;\n",
       "    }\n",
       "\n",
       "    .dataframe tbody tr th {\n",
       "        vertical-align: top;\n",
       "    }\n",
       "\n",
       "    .dataframe thead th {\n",
       "        text-align: right;\n",
       "    }\n",
       "</style>\n",
       "<table border=\"1\" class=\"dataframe\">\n",
       "  <thead>\n",
       "    <tr style=\"text-align: right;\">\n",
       "      <th></th>\n",
       "      <th>children</th>\n",
       "      <th>days_employed</th>\n",
       "      <th>dob_years</th>\n",
       "      <th>education</th>\n",
       "      <th>education_id</th>\n",
       "      <th>family_status</th>\n",
       "      <th>family_status_id</th>\n",
       "      <th>gender</th>\n",
       "      <th>income_type</th>\n",
       "      <th>debt</th>\n",
       "      <th>total_income</th>\n",
       "      <th>purpose</th>\n",
       "    </tr>\n",
       "  </thead>\n",
       "  <tbody>\n",
       "    <tr>\n",
       "      <th>0</th>\n",
       "      <td>1</td>\n",
       "      <td>8437</td>\n",
       "      <td>42</td>\n",
       "      <td>высшее</td>\n",
       "      <td>0</td>\n",
       "      <td>женат / замужем</td>\n",
       "      <td>0</td>\n",
       "      <td>F</td>\n",
       "      <td>сотрудник</td>\n",
       "      <td>0</td>\n",
       "      <td>253875</td>\n",
       "      <td>покупка жилья</td>\n",
       "    </tr>\n",
       "    <tr>\n",
       "      <th>1</th>\n",
       "      <td>1</td>\n",
       "      <td>4024</td>\n",
       "      <td>36</td>\n",
       "      <td>среднее</td>\n",
       "      <td>1</td>\n",
       "      <td>женат / замужем</td>\n",
       "      <td>0</td>\n",
       "      <td>F</td>\n",
       "      <td>сотрудник</td>\n",
       "      <td>0</td>\n",
       "      <td>112080</td>\n",
       "      <td>приобретение автомобиля</td>\n",
       "    </tr>\n",
       "    <tr>\n",
       "      <th>2</th>\n",
       "      <td>0</td>\n",
       "      <td>5623</td>\n",
       "      <td>33</td>\n",
       "      <td>Среднее</td>\n",
       "      <td>1</td>\n",
       "      <td>женат / замужем</td>\n",
       "      <td>0</td>\n",
       "      <td>M</td>\n",
       "      <td>сотрудник</td>\n",
       "      <td>0</td>\n",
       "      <td>145885</td>\n",
       "      <td>покупка жилья</td>\n",
       "    </tr>\n",
       "    <tr>\n",
       "      <th>3</th>\n",
       "      <td>3</td>\n",
       "      <td>4124</td>\n",
       "      <td>32</td>\n",
       "      <td>среднее</td>\n",
       "      <td>1</td>\n",
       "      <td>женат / замужем</td>\n",
       "      <td>0</td>\n",
       "      <td>M</td>\n",
       "      <td>сотрудник</td>\n",
       "      <td>0</td>\n",
       "      <td>267628</td>\n",
       "      <td>дополнительное образование</td>\n",
       "    </tr>\n",
       "    <tr>\n",
       "      <th>4</th>\n",
       "      <td>0</td>\n",
       "      <td>1630</td>\n",
       "      <td>53</td>\n",
       "      <td>среднее</td>\n",
       "      <td>1</td>\n",
       "      <td>гражданский брак</td>\n",
       "      <td>1</td>\n",
       "      <td>F</td>\n",
       "      <td>пенсионер</td>\n",
       "      <td>0</td>\n",
       "      <td>158616</td>\n",
       "      <td>сыграть свадьбу</td>\n",
       "    </tr>\n",
       "    <tr>\n",
       "      <th>5</th>\n",
       "      <td>0</td>\n",
       "      <td>926</td>\n",
       "      <td>27</td>\n",
       "      <td>высшее</td>\n",
       "      <td>0</td>\n",
       "      <td>гражданский брак</td>\n",
       "      <td>1</td>\n",
       "      <td>M</td>\n",
       "      <td>компаньон</td>\n",
       "      <td>0</td>\n",
       "      <td>255763</td>\n",
       "      <td>покупка жилья</td>\n",
       "    </tr>\n",
       "    <tr>\n",
       "      <th>6</th>\n",
       "      <td>0</td>\n",
       "      <td>2879</td>\n",
       "      <td>43</td>\n",
       "      <td>высшее</td>\n",
       "      <td>0</td>\n",
       "      <td>женат / замужем</td>\n",
       "      <td>0</td>\n",
       "      <td>F</td>\n",
       "      <td>компаньон</td>\n",
       "      <td>0</td>\n",
       "      <td>240525</td>\n",
       "      <td>операции с жильем</td>\n",
       "    </tr>\n",
       "    <tr>\n",
       "      <th>7</th>\n",
       "      <td>0</td>\n",
       "      <td>152</td>\n",
       "      <td>50</td>\n",
       "      <td>СРЕДНЕЕ</td>\n",
       "      <td>1</td>\n",
       "      <td>женат / замужем</td>\n",
       "      <td>0</td>\n",
       "      <td>M</td>\n",
       "      <td>сотрудник</td>\n",
       "      <td>0</td>\n",
       "      <td>135823</td>\n",
       "      <td>образование</td>\n",
       "    </tr>\n",
       "    <tr>\n",
       "      <th>8</th>\n",
       "      <td>2</td>\n",
       "      <td>6929</td>\n",
       "      <td>35</td>\n",
       "      <td>ВЫСШЕЕ</td>\n",
       "      <td>0</td>\n",
       "      <td>гражданский брак</td>\n",
       "      <td>1</td>\n",
       "      <td>F</td>\n",
       "      <td>сотрудник</td>\n",
       "      <td>0</td>\n",
       "      <td>95856</td>\n",
       "      <td>на проведение свадьбы</td>\n",
       "    </tr>\n",
       "    <tr>\n",
       "      <th>9</th>\n",
       "      <td>0</td>\n",
       "      <td>2188</td>\n",
       "      <td>41</td>\n",
       "      <td>среднее</td>\n",
       "      <td>1</td>\n",
       "      <td>женат / замужем</td>\n",
       "      <td>0</td>\n",
       "      <td>M</td>\n",
       "      <td>сотрудник</td>\n",
       "      <td>0</td>\n",
       "      <td>144425</td>\n",
       "      <td>покупка жилья для семьи</td>\n",
       "    </tr>\n",
       "    <tr>\n",
       "      <th>10</th>\n",
       "      <td>2</td>\n",
       "      <td>4171</td>\n",
       "      <td>36</td>\n",
       "      <td>высшее</td>\n",
       "      <td>0</td>\n",
       "      <td>женат / замужем</td>\n",
       "      <td>0</td>\n",
       "      <td>M</td>\n",
       "      <td>компаньон</td>\n",
       "      <td>0</td>\n",
       "      <td>113943</td>\n",
       "      <td>покупка недвижимости</td>\n",
       "    </tr>\n",
       "    <tr>\n",
       "      <th>11</th>\n",
       "      <td>0</td>\n",
       "      <td>792</td>\n",
       "      <td>40</td>\n",
       "      <td>среднее</td>\n",
       "      <td>1</td>\n",
       "      <td>женат / замужем</td>\n",
       "      <td>0</td>\n",
       "      <td>F</td>\n",
       "      <td>сотрудник</td>\n",
       "      <td>0</td>\n",
       "      <td>77069</td>\n",
       "      <td>покупка коммерческой недвижимости</td>\n",
       "    </tr>\n",
       "    <tr>\n",
       "      <th>12</th>\n",
       "      <td>0</td>\n",
       "      <td>1630</td>\n",
       "      <td>65</td>\n",
       "      <td>среднее</td>\n",
       "      <td>1</td>\n",
       "      <td>гражданский брак</td>\n",
       "      <td>1</td>\n",
       "      <td>M</td>\n",
       "      <td>пенсионер</td>\n",
       "      <td>0</td>\n",
       "      <td>145017</td>\n",
       "      <td>сыграть свадьбу</td>\n",
       "    </tr>\n",
       "    <tr>\n",
       "      <th>13</th>\n",
       "      <td>0</td>\n",
       "      <td>1846</td>\n",
       "      <td>54</td>\n",
       "      <td>неоконченное высшее</td>\n",
       "      <td>2</td>\n",
       "      <td>женат / замужем</td>\n",
       "      <td>0</td>\n",
       "      <td>F</td>\n",
       "      <td>сотрудник</td>\n",
       "      <td>0</td>\n",
       "      <td>130458</td>\n",
       "      <td>приобретение автомобиля</td>\n",
       "    </tr>\n",
       "    <tr>\n",
       "      <th>14</th>\n",
       "      <td>0</td>\n",
       "      <td>1844</td>\n",
       "      <td>56</td>\n",
       "      <td>высшее</td>\n",
       "      <td>0</td>\n",
       "      <td>гражданский брак</td>\n",
       "      <td>1</td>\n",
       "      <td>F</td>\n",
       "      <td>компаньон</td>\n",
       "      <td>1</td>\n",
       "      <td>165127</td>\n",
       "      <td>покупка жилой недвижимости</td>\n",
       "    </tr>\n",
       "    <tr>\n",
       "      <th>15</th>\n",
       "      <td>1</td>\n",
       "      <td>972</td>\n",
       "      <td>26</td>\n",
       "      <td>среднее</td>\n",
       "      <td>1</td>\n",
       "      <td>женат / замужем</td>\n",
       "      <td>0</td>\n",
       "      <td>F</td>\n",
       "      <td>сотрудник</td>\n",
       "      <td>0</td>\n",
       "      <td>116820</td>\n",
       "      <td>строительство собственной недвижимости</td>\n",
       "    </tr>\n",
       "    <tr>\n",
       "      <th>16</th>\n",
       "      <td>0</td>\n",
       "      <td>1719</td>\n",
       "      <td>35</td>\n",
       "      <td>среднее</td>\n",
       "      <td>1</td>\n",
       "      <td>женат / замужем</td>\n",
       "      <td>0</td>\n",
       "      <td>F</td>\n",
       "      <td>сотрудник</td>\n",
       "      <td>0</td>\n",
       "      <td>289202</td>\n",
       "      <td>недвижимость</td>\n",
       "    </tr>\n",
       "    <tr>\n",
       "      <th>17</th>\n",
       "      <td>0</td>\n",
       "      <td>2369</td>\n",
       "      <td>33</td>\n",
       "      <td>высшее</td>\n",
       "      <td>0</td>\n",
       "      <td>гражданский брак</td>\n",
       "      <td>1</td>\n",
       "      <td>M</td>\n",
       "      <td>сотрудник</td>\n",
       "      <td>0</td>\n",
       "      <td>90410</td>\n",
       "      <td>строительство недвижимости</td>\n",
       "    </tr>\n",
       "    <tr>\n",
       "      <th>18</th>\n",
       "      <td>0</td>\n",
       "      <td>1630</td>\n",
       "      <td>53</td>\n",
       "      <td>среднее</td>\n",
       "      <td>1</td>\n",
       "      <td>вдовец / вдова</td>\n",
       "      <td>2</td>\n",
       "      <td>F</td>\n",
       "      <td>пенсионер</td>\n",
       "      <td>0</td>\n",
       "      <td>56823</td>\n",
       "      <td>на покупку подержанного автомобиля</td>\n",
       "    </tr>\n",
       "    <tr>\n",
       "      <th>19</th>\n",
       "      <td>0</td>\n",
       "      <td>10038</td>\n",
       "      <td>48</td>\n",
       "      <td>СРЕДНЕЕ</td>\n",
       "      <td>1</td>\n",
       "      <td>в разводе</td>\n",
       "      <td>3</td>\n",
       "      <td>F</td>\n",
       "      <td>сотрудник</td>\n",
       "      <td>0</td>\n",
       "      <td>242831</td>\n",
       "      <td>на покупку своего автомобиля</td>\n",
       "    </tr>\n",
       "    <tr>\n",
       "      <th>20</th>\n",
       "      <td>1</td>\n",
       "      <td>1311</td>\n",
       "      <td>36</td>\n",
       "      <td>среднее</td>\n",
       "      <td>1</td>\n",
       "      <td>женат / замужем</td>\n",
       "      <td>0</td>\n",
       "      <td>M</td>\n",
       "      <td>сотрудник</td>\n",
       "      <td>0</td>\n",
       "      <td>209552</td>\n",
       "      <td>недвижимость</td>\n",
       "    </tr>\n",
       "    <tr>\n",
       "      <th>21</th>\n",
       "      <td>1</td>\n",
       "      <td>253</td>\n",
       "      <td>33</td>\n",
       "      <td>среднее</td>\n",
       "      <td>1</td>\n",
       "      <td>гражданский брак</td>\n",
       "      <td>1</td>\n",
       "      <td>F</td>\n",
       "      <td>сотрудник</td>\n",
       "      <td>0</td>\n",
       "      <td>131812</td>\n",
       "      <td>приобретение автомобиля</td>\n",
       "    </tr>\n",
       "    <tr>\n",
       "      <th>22</th>\n",
       "      <td>1</td>\n",
       "      <td>1766</td>\n",
       "      <td>24</td>\n",
       "      <td>среднее</td>\n",
       "      <td>1</td>\n",
       "      <td>гражданский брак</td>\n",
       "      <td>1</td>\n",
       "      <td>F</td>\n",
       "      <td>сотрудник</td>\n",
       "      <td>0</td>\n",
       "      <td>149681</td>\n",
       "      <td>на покупку подержанного автомобиля</td>\n",
       "    </tr>\n",
       "    <tr>\n",
       "      <th>23</th>\n",
       "      <td>0</td>\n",
       "      <td>272</td>\n",
       "      <td>21</td>\n",
       "      <td>высшее</td>\n",
       "      <td>0</td>\n",
       "      <td>гражданский брак</td>\n",
       "      <td>1</td>\n",
       "      <td>M</td>\n",
       "      <td>сотрудник</td>\n",
       "      <td>0</td>\n",
       "      <td>128265</td>\n",
       "      <td>сыграть свадьбу</td>\n",
       "    </tr>\n",
       "    <tr>\n",
       "      <th>24</th>\n",
       "      <td>1</td>\n",
       "      <td>1630</td>\n",
       "      <td>57</td>\n",
       "      <td>среднее</td>\n",
       "      <td>1</td>\n",
       "      <td>Не женат / не замужем</td>\n",
       "      <td>4</td>\n",
       "      <td>F</td>\n",
       "      <td>пенсионер</td>\n",
       "      <td>0</td>\n",
       "      <td>290547</td>\n",
       "      <td>операции с коммерческой недвижимостью</td>\n",
       "    </tr>\n",
       "  </tbody>\n",
       "</table>\n",
       "</div>"
      ],
      "text/plain": [
       "    children  days_employed  dob_years            education  education_id  \\\n",
       "0          1           8437         42               высшее             0   \n",
       "1          1           4024         36              среднее             1   \n",
       "2          0           5623         33              Среднее             1   \n",
       "3          3           4124         32              среднее             1   \n",
       "4          0           1630         53              среднее             1   \n",
       "5          0            926         27               высшее             0   \n",
       "6          0           2879         43               высшее             0   \n",
       "7          0            152         50              СРЕДНЕЕ             1   \n",
       "8          2           6929         35               ВЫСШЕЕ             0   \n",
       "9          0           2188         41              среднее             1   \n",
       "10         2           4171         36               высшее             0   \n",
       "11         0            792         40              среднее             1   \n",
       "12         0           1630         65              среднее             1   \n",
       "13         0           1846         54  неоконченное высшее             2   \n",
       "14         0           1844         56               высшее             0   \n",
       "15         1            972         26              среднее             1   \n",
       "16         0           1719         35              среднее             1   \n",
       "17         0           2369         33               высшее             0   \n",
       "18         0           1630         53              среднее             1   \n",
       "19         0          10038         48              СРЕДНЕЕ             1   \n",
       "20         1           1311         36              среднее             1   \n",
       "21         1            253         33              среднее             1   \n",
       "22         1           1766         24              среднее             1   \n",
       "23         0            272         21               высшее             0   \n",
       "24         1           1630         57              среднее             1   \n",
       "\n",
       "            family_status  family_status_id gender income_type  debt  \\\n",
       "0         женат / замужем                 0      F   сотрудник     0   \n",
       "1         женат / замужем                 0      F   сотрудник     0   \n",
       "2         женат / замужем                 0      M   сотрудник     0   \n",
       "3         женат / замужем                 0      M   сотрудник     0   \n",
       "4        гражданский брак                 1      F   пенсионер     0   \n",
       "5        гражданский брак                 1      M   компаньон     0   \n",
       "6         женат / замужем                 0      F   компаньон     0   \n",
       "7         женат / замужем                 0      M   сотрудник     0   \n",
       "8        гражданский брак                 1      F   сотрудник     0   \n",
       "9         женат / замужем                 0      M   сотрудник     0   \n",
       "10        женат / замужем                 0      M   компаньон     0   \n",
       "11        женат / замужем                 0      F   сотрудник     0   \n",
       "12       гражданский брак                 1      M   пенсионер     0   \n",
       "13        женат / замужем                 0      F   сотрудник     0   \n",
       "14       гражданский брак                 1      F   компаньон     1   \n",
       "15        женат / замужем                 0      F   сотрудник     0   \n",
       "16        женат / замужем                 0      F   сотрудник     0   \n",
       "17       гражданский брак                 1      M   сотрудник     0   \n",
       "18         вдовец / вдова                 2      F   пенсионер     0   \n",
       "19              в разводе                 3      F   сотрудник     0   \n",
       "20        женат / замужем                 0      M   сотрудник     0   \n",
       "21       гражданский брак                 1      F   сотрудник     0   \n",
       "22       гражданский брак                 1      F   сотрудник     0   \n",
       "23       гражданский брак                 1      M   сотрудник     0   \n",
       "24  Не женат / не замужем                 4      F   пенсионер     0   \n",
       "\n",
       "    total_income                                 purpose  \n",
       "0         253875                           покупка жилья  \n",
       "1         112080                 приобретение автомобиля  \n",
       "2         145885                           покупка жилья  \n",
       "3         267628              дополнительное образование  \n",
       "4         158616                         сыграть свадьбу  \n",
       "5         255763                           покупка жилья  \n",
       "6         240525                       операции с жильем  \n",
       "7         135823                             образование  \n",
       "8          95856                   на проведение свадьбы  \n",
       "9         144425                 покупка жилья для семьи  \n",
       "10        113943                    покупка недвижимости  \n",
       "11         77069       покупка коммерческой недвижимости  \n",
       "12        145017                         сыграть свадьбу  \n",
       "13        130458                 приобретение автомобиля  \n",
       "14        165127              покупка жилой недвижимости  \n",
       "15        116820  строительство собственной недвижимости  \n",
       "16        289202                            недвижимость  \n",
       "17         90410              строительство недвижимости  \n",
       "18         56823      на покупку подержанного автомобиля  \n",
       "19        242831            на покупку своего автомобиля  \n",
       "20        209552                            недвижимость  \n",
       "21        131812                 приобретение автомобиля  \n",
       "22        149681      на покупку подержанного автомобиля  \n",
       "23        128265                         сыграть свадьбу  \n",
       "24        290547   операции с коммерческой недвижимостью  "
      ]
     },
     "execution_count": 29,
     "metadata": {},
     "output_type": "execute_result"
    }
   ],
   "source": [
    "data.head(25)"
   ]
  },
  {
   "cell_type": "markdown",
   "metadata": {},
   "source": [
    "### Вывод"
   ]
  },
  {
   "cell_type": "markdown",
   "metadata": {},
   "source": [
    "Пропуски присутствуют в столбцах *'days_employed'* и *'total_income'*. В рамках поставленной задачи присутствующие в строках с пропусками данные представляют ценность. В связи с этим, было принято решение заменить пропуски характерными значениями. В виду большого разброса, медианные значения предпочтительнее для использования в качестве характерных."
   ]
  },
  {
   "cell_type": "markdown",
   "metadata": {},
   "source": [
    "### Замена типа данных"
   ]
  },
  {
   "cell_type": "markdown",
   "metadata": {},
   "source": [
    "Сделаем все заглавные буквы ячеек в столбцах *'education'*, *'family_status'*, *'income_type'* и *'purpose'* **строчными** и просмотрим первые 10 строк таблицы, чтобы убедиться, что всё идёт по плану:"
   ]
  },
  {
   "cell_type": "code",
   "execution_count": 30,
   "metadata": {},
   "outputs": [
    {
     "data": {
      "text/html": [
       "<div>\n",
       "<style scoped>\n",
       "    .dataframe tbody tr th:only-of-type {\n",
       "        vertical-align: middle;\n",
       "    }\n",
       "\n",
       "    .dataframe tbody tr th {\n",
       "        vertical-align: top;\n",
       "    }\n",
       "\n",
       "    .dataframe thead th {\n",
       "        text-align: right;\n",
       "    }\n",
       "</style>\n",
       "<table border=\"1\" class=\"dataframe\">\n",
       "  <thead>\n",
       "    <tr style=\"text-align: right;\">\n",
       "      <th></th>\n",
       "      <th>children</th>\n",
       "      <th>days_employed</th>\n",
       "      <th>dob_years</th>\n",
       "      <th>education</th>\n",
       "      <th>education_id</th>\n",
       "      <th>family_status</th>\n",
       "      <th>family_status_id</th>\n",
       "      <th>gender</th>\n",
       "      <th>income_type</th>\n",
       "      <th>debt</th>\n",
       "      <th>total_income</th>\n",
       "      <th>purpose</th>\n",
       "    </tr>\n",
       "  </thead>\n",
       "  <tbody>\n",
       "    <tr>\n",
       "      <th>0</th>\n",
       "      <td>1</td>\n",
       "      <td>8437</td>\n",
       "      <td>42</td>\n",
       "      <td>высшее</td>\n",
       "      <td>0</td>\n",
       "      <td>женат / замужем</td>\n",
       "      <td>0</td>\n",
       "      <td>F</td>\n",
       "      <td>сотрудник</td>\n",
       "      <td>0</td>\n",
       "      <td>253875</td>\n",
       "      <td>покупка жилья</td>\n",
       "    </tr>\n",
       "    <tr>\n",
       "      <th>1</th>\n",
       "      <td>1</td>\n",
       "      <td>4024</td>\n",
       "      <td>36</td>\n",
       "      <td>среднее</td>\n",
       "      <td>1</td>\n",
       "      <td>женат / замужем</td>\n",
       "      <td>0</td>\n",
       "      <td>F</td>\n",
       "      <td>сотрудник</td>\n",
       "      <td>0</td>\n",
       "      <td>112080</td>\n",
       "      <td>приобретение автомобиля</td>\n",
       "    </tr>\n",
       "    <tr>\n",
       "      <th>2</th>\n",
       "      <td>0</td>\n",
       "      <td>5623</td>\n",
       "      <td>33</td>\n",
       "      <td>среднее</td>\n",
       "      <td>1</td>\n",
       "      <td>женат / замужем</td>\n",
       "      <td>0</td>\n",
       "      <td>M</td>\n",
       "      <td>сотрудник</td>\n",
       "      <td>0</td>\n",
       "      <td>145885</td>\n",
       "      <td>покупка жилья</td>\n",
       "    </tr>\n",
       "    <tr>\n",
       "      <th>3</th>\n",
       "      <td>3</td>\n",
       "      <td>4124</td>\n",
       "      <td>32</td>\n",
       "      <td>среднее</td>\n",
       "      <td>1</td>\n",
       "      <td>женат / замужем</td>\n",
       "      <td>0</td>\n",
       "      <td>M</td>\n",
       "      <td>сотрудник</td>\n",
       "      <td>0</td>\n",
       "      <td>267628</td>\n",
       "      <td>дополнительное образование</td>\n",
       "    </tr>\n",
       "    <tr>\n",
       "      <th>4</th>\n",
       "      <td>0</td>\n",
       "      <td>1630</td>\n",
       "      <td>53</td>\n",
       "      <td>среднее</td>\n",
       "      <td>1</td>\n",
       "      <td>гражданский брак</td>\n",
       "      <td>1</td>\n",
       "      <td>F</td>\n",
       "      <td>пенсионер</td>\n",
       "      <td>0</td>\n",
       "      <td>158616</td>\n",
       "      <td>сыграть свадьбу</td>\n",
       "    </tr>\n",
       "    <tr>\n",
       "      <th>5</th>\n",
       "      <td>0</td>\n",
       "      <td>926</td>\n",
       "      <td>27</td>\n",
       "      <td>высшее</td>\n",
       "      <td>0</td>\n",
       "      <td>гражданский брак</td>\n",
       "      <td>1</td>\n",
       "      <td>M</td>\n",
       "      <td>компаньон</td>\n",
       "      <td>0</td>\n",
       "      <td>255763</td>\n",
       "      <td>покупка жилья</td>\n",
       "    </tr>\n",
       "    <tr>\n",
       "      <th>6</th>\n",
       "      <td>0</td>\n",
       "      <td>2879</td>\n",
       "      <td>43</td>\n",
       "      <td>высшее</td>\n",
       "      <td>0</td>\n",
       "      <td>женат / замужем</td>\n",
       "      <td>0</td>\n",
       "      <td>F</td>\n",
       "      <td>компаньон</td>\n",
       "      <td>0</td>\n",
       "      <td>240525</td>\n",
       "      <td>операции с жильем</td>\n",
       "    </tr>\n",
       "    <tr>\n",
       "      <th>7</th>\n",
       "      <td>0</td>\n",
       "      <td>152</td>\n",
       "      <td>50</td>\n",
       "      <td>среднее</td>\n",
       "      <td>1</td>\n",
       "      <td>женат / замужем</td>\n",
       "      <td>0</td>\n",
       "      <td>M</td>\n",
       "      <td>сотрудник</td>\n",
       "      <td>0</td>\n",
       "      <td>135823</td>\n",
       "      <td>образование</td>\n",
       "    </tr>\n",
       "    <tr>\n",
       "      <th>8</th>\n",
       "      <td>2</td>\n",
       "      <td>6929</td>\n",
       "      <td>35</td>\n",
       "      <td>высшее</td>\n",
       "      <td>0</td>\n",
       "      <td>гражданский брак</td>\n",
       "      <td>1</td>\n",
       "      <td>F</td>\n",
       "      <td>сотрудник</td>\n",
       "      <td>0</td>\n",
       "      <td>95856</td>\n",
       "      <td>на проведение свадьбы</td>\n",
       "    </tr>\n",
       "    <tr>\n",
       "      <th>9</th>\n",
       "      <td>0</td>\n",
       "      <td>2188</td>\n",
       "      <td>41</td>\n",
       "      <td>среднее</td>\n",
       "      <td>1</td>\n",
       "      <td>женат / замужем</td>\n",
       "      <td>0</td>\n",
       "      <td>M</td>\n",
       "      <td>сотрудник</td>\n",
       "      <td>0</td>\n",
       "      <td>144425</td>\n",
       "      <td>покупка жилья для семьи</td>\n",
       "    </tr>\n",
       "  </tbody>\n",
       "</table>\n",
       "</div>"
      ],
      "text/plain": [
       "   children  days_employed  dob_years education  education_id  \\\n",
       "0         1           8437         42    высшее             0   \n",
       "1         1           4024         36   среднее             1   \n",
       "2         0           5623         33   среднее             1   \n",
       "3         3           4124         32   среднее             1   \n",
       "4         0           1630         53   среднее             1   \n",
       "5         0            926         27    высшее             0   \n",
       "6         0           2879         43    высшее             0   \n",
       "7         0            152         50   среднее             1   \n",
       "8         2           6929         35    высшее             0   \n",
       "9         0           2188         41   среднее             1   \n",
       "\n",
       "      family_status  family_status_id gender income_type  debt  total_income  \\\n",
       "0   женат / замужем                 0      F   сотрудник     0        253875   \n",
       "1   женат / замужем                 0      F   сотрудник     0        112080   \n",
       "2   женат / замужем                 0      M   сотрудник     0        145885   \n",
       "3   женат / замужем                 0      M   сотрудник     0        267628   \n",
       "4  гражданский брак                 1      F   пенсионер     0        158616   \n",
       "5  гражданский брак                 1      M   компаньон     0        255763   \n",
       "6   женат / замужем                 0      F   компаньон     0        240525   \n",
       "7   женат / замужем                 0      M   сотрудник     0        135823   \n",
       "8  гражданский брак                 1      F   сотрудник     0         95856   \n",
       "9   женат / замужем                 0      M   сотрудник     0        144425   \n",
       "\n",
       "                      purpose  \n",
       "0               покупка жилья  \n",
       "1     приобретение автомобиля  \n",
       "2               покупка жилья  \n",
       "3  дополнительное образование  \n",
       "4             сыграть свадьбу  \n",
       "5               покупка жилья  \n",
       "6           операции с жильем  \n",
       "7                 образование  \n",
       "8       на проведение свадьбы  \n",
       "9     покупка жилья для семьи  "
      ]
     },
     "execution_count": 30,
     "metadata": {},
     "output_type": "execute_result"
    }
   ],
   "source": [
    "data['education'] = data['education'].str.lower()\n",
    "data['family_status'] = data['family_status'].str.lower()\n",
    "data['income_type'] = data['income_type'].str.lower()\n",
    "data['purpose'] = data['purpose'].str.lower()\n",
    "data.head(10)"
   ]
  },
  {
   "cell_type": "markdown",
   "metadata": {},
   "source": [
    "Просмотрим уникальные значения в столбце *'education'*:"
   ]
  },
  {
   "cell_type": "code",
   "execution_count": 31,
   "metadata": {},
   "outputs": [
    {
     "name": "stdout",
     "output_type": "stream",
     "text": [
      "среднее                15169\n",
      "высшее                  5225\n",
      "неоконченное высшее      742\n",
      "начальное                282\n",
      "ученая степень             6\n",
      "Name: education, dtype: int64\n"
     ]
    }
   ],
   "source": [
    "print(data['education'].value_counts())"
   ]
  },
  {
   "cell_type": "markdown",
   "metadata": {},
   "source": [
    "Люди с образованием выше среднего реже приходят в банк, чтобы взять кредит."
   ]
  },
  {
   "cell_type": "markdown",
   "metadata": {},
   "source": [
    "Просмотрим уникальные значения в столбце *'family_status'*:"
   ]
  },
  {
   "cell_type": "code",
   "execution_count": 32,
   "metadata": {},
   "outputs": [
    {
     "name": "stdout",
     "output_type": "stream",
     "text": [
      "женат / замужем          12331\n",
      "гражданский брак          4156\n",
      "не женат / не замужем     2797\n",
      "в разводе                 1185\n",
      "вдовец / вдова             955\n",
      "Name: family_status, dtype: int64\n"
     ]
    }
   ],
   "source": [
    "print(data['family_status'].value_counts())"
   ]
  },
  {
   "cell_type": "markdown",
   "metadata": {},
   "source": [
    "Чаще всего берут кредит те, у кого есть вторая половинка."
   ]
  },
  {
   "cell_type": "markdown",
   "metadata": {},
   "source": [
    "Просмотрим уникальные значения в столбце *'gender'*:"
   ]
  },
  {
   "cell_type": "code",
   "execution_count": 33,
   "metadata": {},
   "outputs": [
    {
     "name": "stdout",
     "output_type": "stream",
     "text": [
      "F      14164\n",
      "M       7259\n",
      "XNA        1\n",
      "Name: gender, dtype: int64\n"
     ]
    }
   ],
   "source": [
    "print(data['gender'].value_counts())"
   ]
  },
  {
   "cell_type": "markdown",
   "metadata": {},
   "source": [
    "Женщинам кредит нужнее, чем мужчинам.\n",
    "\n",
    "Во время просмотра значений замечаем **аномалию**: пол \"XNA\".\n",
    "\n",
    "Впрочем, в рамках поставленной задачи зависимость чего-либо от значений столбца *'gender'* нас не интересуют. Поскольку аномальное значение всего одно, можно в дальнейшем исключить эту строку из выборки:"
   ]
  },
  {
   "cell_type": "code",
   "execution_count": 34,
   "metadata": {},
   "outputs": [
    {
     "name": "stdout",
     "output_type": "stream",
     "text": [
      "F    14164\n",
      "M     7259\n",
      "Name: gender, dtype: int64\n"
     ]
    }
   ],
   "source": [
    "data = data[data['gender'] != 'XNA']\n",
    "print(data['gender'].value_counts())"
   ]
  },
  {
   "cell_type": "markdown",
   "metadata": {},
   "source": [
    "Просмотрим уникальные значения в столбце *'income_type'*:"
   ]
  },
  {
   "cell_type": "code",
   "execution_count": 35,
   "metadata": {},
   "outputs": [
    {
     "name": "stdout",
     "output_type": "stream",
     "text": [
      "сотрудник          11064\n",
      "компаньон           5064\n",
      "пенсионер           3836\n",
      "госслужащий         1453\n",
      "безработный            2\n",
      "предприниматель        2\n",
      "в декрете              1\n",
      "студент                1\n",
      "Name: income_type, dtype: int64\n"
     ]
    }
   ],
   "source": [
    "print(data['income_type'].value_counts())"
   ]
  },
  {
   "cell_type": "markdown",
   "metadata": {},
   "source": [
    "### Вывод"
   ]
  },
  {
   "cell_type": "markdown",
   "metadata": {},
   "source": [
    "Все заглавные буквы, содержащиеся в столбцах *'education'*, *'family_status'*, *'income_type'* и *'purpose'*, сделаны **строчными**. С такими данными намного удобнее работать. Просмотрены уникальные значения, содержащиеся в столбцах со значениями типа \"string\". Чаще всего берут кредит люди, не имеющие высшего образования. Женщин среди клиентов вдвое больше мужчин."
   ]
  },
  {
   "cell_type": "markdown",
   "metadata": {},
   "source": [
    "### Обработка дубликатов"
   ]
  },
  {
   "cell_type": "markdown",
   "metadata": {},
   "source": [
    "Посчитаем количество дубликатов:"
   ]
  },
  {
   "cell_type": "code",
   "execution_count": 36,
   "metadata": {},
   "outputs": [
    {
     "name": "stdout",
     "output_type": "stream",
     "text": [
      "Продублировано строк: 71.\n",
      "Доля дубликатов: 0.33%\n"
     ]
    }
   ],
   "source": [
    "print('Продублировано строк: ', data.duplicated().sum(), '.', sep='')\n",
    "print('Доля дубликатов: {:.2%}'.format(data.duplicated().sum() / data['children'].count()))"
   ]
  },
  {
   "cell_type": "markdown",
   "metadata": {},
   "source": [
    "Удалим дубликаты применением drop_duplicates() с последующим восстановлением правильной нумерации:"
   ]
  },
  {
   "cell_type": "code",
   "execution_count": 37,
   "metadata": {},
   "outputs": [],
   "source": [
    "data = data.drop_duplicates().reset_index(drop=True)"
   ]
  },
  {
   "cell_type": "markdown",
   "metadata": {},
   "source": [
    "### Вывод"
   ]
  },
  {
   "cell_type": "markdown",
   "metadata": {},
   "source": [
    "Незначительную долю строк составляли дубликаты. Возможная причина — ошибки ввода. Дубликаты были исключены методом *drop_duplicates()*."
   ]
  },
  {
   "cell_type": "markdown",
   "metadata": {},
   "source": [
    "### Лемматизация"
   ]
  },
  {
   "cell_type": "markdown",
   "metadata": {},
   "source": [
    "Для лемматизации используем pymystem3:"
   ]
  },
  {
   "cell_type": "code",
   "execution_count": 38,
   "metadata": {},
   "outputs": [],
   "source": [
    "m = Mystem()\n",
    "purposes = ['жилье', 'образование', 'свадьба', 'автомобиль', 'недвижимость']\n",
    "def lemmatize_purposes(purpose):\n",
    "    lemmas = m.lemmatize(purpose)\n",
    "    for lemma in lemmas:\n",
    "        if lemma in purposes:\n",
    "            return lemma"
   ]
  },
  {
   "cell_type": "markdown",
   "metadata": {},
   "source": [
    "Среди целей кредитов можно выделить 5 групп, содержащих соответственно слова \"жильё\", \"образование\", \"свадьба\", \"автомобиль\" и \"недвижимость\". Посчитаем количество строк, содержащих нужные нам леммы:"
   ]
  },
  {
   "cell_type": "code",
   "execution_count": 39,
   "metadata": {},
   "outputs": [
    {
     "data": {
      "text/plain": [
       "недвижимость    6327\n",
       "жилье           4436\n",
       "автомобиль      4284\n",
       "образование     3995\n",
       "свадьба         2310\n",
       "Name: purposes_lemmatized, dtype: int64"
      ]
     },
     "execution_count": 39,
     "metadata": {},
     "output_type": "execute_result"
    }
   ],
   "source": [
    "data['purposes_lemmatized'] = data['purpose'].apply(lemmatize_purposes)\n",
    "data['purposes_lemmatized'].value_counts()"
   ]
  },
  {
   "cell_type": "markdown",
   "metadata": {},
   "source": [
    "### Вывод"
   ]
  },
  {
   "cell_type": "markdown",
   "metadata": {},
   "source": [
    "Наиболее частая цель кредита — жильё и недвижимость."
   ]
  },
  {
   "cell_type": "markdown",
   "metadata": {},
   "source": [
    "### Категоризация данных"
   ]
  },
  {
   "cell_type": "markdown",
   "metadata": {},
   "source": [
    "Создадим **набор словарей**, позволяющих дать ответы на поставленные в кейсе вопросы."
   ]
  },
  {
   "cell_type": "markdown",
   "metadata": {},
   "source": [
    "1. \"Есть ли зависимость между наличием детей и возвратом кредита в срок?\""
   ]
  },
  {
   "cell_type": "markdown",
   "metadata": {},
   "source": [
    "Добавим в словарь столбец, характеризующий наличие или отсутствие детей у клиента:"
   ]
  },
  {
   "cell_type": "code",
   "execution_count": 40,
   "metadata": {},
   "outputs": [
    {
     "name": "stderr",
     "output_type": "stream",
     "text": [
      "C:\\Users\\Boris\\anaconda3\\lib\\site-packages\\ipykernel_launcher.py:8: SettingWithCopyWarning: \n",
      "A value is trying to be set on a copy of a slice from a DataFrame.\n",
      "Try using .loc[row_indexer,col_indexer] = value instead\n",
      "\n",
      "See the caveats in the documentation: https://pandas.pydata.org/pandas-docs/stable/user_guide/indexing.html#returning-a-view-versus-a-copy\n",
      "  \n"
     ]
    }
   ],
   "source": [
    "data_children_dict = data[['children', 'debt']]\n",
    "\n",
    "def children_group(children_count):\n",
    "    if children_count == 0:\n",
    "        return 'нет детей'\n",
    "    return 'есть дети'\n",
    "\n",
    "data_children_dict['children_groups'] = data_children_dict['children'].apply(children_group)"
   ]
  },
  {
   "cell_type": "code",
   "execution_count": 41,
   "metadata": {},
   "outputs": [],
   "source": [
    "children_0_debt_0 = (data_children_dict\n",
    "                     [(data_children_dict['children_groups'] == 'нет детей')\n",
    "                      & (data_children_dict['debt'] == 0)]['debt'].count())\n",
    "children_0_debt_1 = (data_children_dict[(data_children_dict['children_groups'] == 'нет детей')\n",
    "                                        &(data_children_dict['debt'] == 1)]['debt'].count())\n",
    "children_1_debt_0 = (data_children_dict[(data_children_dict['children_groups'] == 'есть дети')\n",
    "                                        &(data_children_dict['debt'] == 0)]['debt'].count())\n",
    "children_1_debt_1 = (data_children_dict[(data_children_dict['children_groups'] == 'есть дети')\n",
    "                                        &(data_children_dict['debt'] == 1)]['debt'].count())"
   ]
  },
  {
   "cell_type": "markdown",
   "metadata": {},
   "source": [
    "2. \"Есть ли зависимость между семейным положением и возвратом кредита в срок?\""
   ]
  },
  {
   "cell_type": "code",
   "execution_count": 42,
   "metadata": {},
   "outputs": [],
   "source": [
    "data_family_status_dict = data[['family_status', 'debt']]"
   ]
  },
  {
   "cell_type": "code",
   "execution_count": 43,
   "metadata": {},
   "outputs": [],
   "source": [
    "single_debt_0 = (data_family_status_dict\n",
    "                 [(data_family_status_dict['family_status'] == 'не женат / не замужем')\n",
    "                  &(data_family_status_dict['debt'] == 0)]['family_status'].count())\n",
    "single_debt_1 = (data_family_status_dict\n",
    "                 [(data_family_status_dict['family_status'] == 'не женат / не замужем')\n",
    "                  &(data_family_status_dict['debt'] == 1)]['family_status'].count())\n",
    "\n",
    "civil_marriage_debt_0 = (data_family_status_dict\n",
    "                         [(data_family_status_dict['family_status'] == 'гражданский брак')\n",
    "                          &(data_family_status_dict['debt'] == 0)]['family_status'].count())\n",
    "civil_marriage_debt_1 = (data_family_status_dict\n",
    "                         [(data_family_status_dict['family_status'] == 'гражданский брак')\n",
    "                          &(data_family_status_dict['debt'] == 1)]['family_status'].count())\n",
    "\n",
    "married_debt_0 = (data_family_status_dict\n",
    "                  [(data_family_status_dict['family_status'] == 'женат / замужем')\n",
    "                   &(data_family_status_dict['debt'] == 0)]['family_status'].count())\n",
    "married_debt_1 = (data_family_status_dict\n",
    "                  [(data_family_status_dict['family_status'] == 'женат / замужем')\n",
    "                   &(data_family_status_dict['debt'] == 1)]['family_status'].count())\n",
    "\n",
    "divorced_debt_0 = (data_family_status_dict\n",
    "                   [(data_family_status_dict['family_status'] == 'в разводе')\n",
    "                    &(data_family_status_dict['debt'] == 0)]['family_status'].count())\n",
    "divorced_debt_1 = (data_family_status_dict\n",
    "                   [(data_family_status_dict['family_status'] == 'в разводе')\n",
    "                    &(data_family_status_dict['debt'] == 1)]['family_status'].count())\n",
    "\n",
    "widower_debt_0 = (data_family_status_dict\n",
    "                  [(data_family_status_dict['family_status'] == 'вдовец / вдова')\n",
    "                   &(data_family_status_dict['debt'] == 0)]['family_status'].count())\n",
    "widower_debt_1 = (data_family_status_dict\n",
    "                  [(data_family_status_dict['family_status'] == 'вдовец / вдова')\n",
    "                   &(data_family_status_dict['debt'] == 1)]['family_status'].count())"
   ]
  },
  {
   "cell_type": "markdown",
   "metadata": {},
   "source": [
    "3. \"Есть ли зависимость между уровнем дохода и возвратом кредита в срок?\""
   ]
  },
  {
   "cell_type": "markdown",
   "metadata": {},
   "source": [
    "Вычислим 20-й, 40-й, 60-й, 80-й и 100-й процентили, разделив выборку на 5 групп, отражающих соответственно уровни дохода: \"низкий\", \"ниже среднего\", \"средний\", \"выше среднего\" и \"высокий\". Добавим новый столбец к словарю:"
   ]
  },
  {
   "cell_type": "code",
   "execution_count": 44,
   "metadata": {},
   "outputs": [
    {
     "name": "stderr",
     "output_type": "stream",
     "text": [
      "C:\\Users\\Boris\\anaconda3\\lib\\site-packages\\ipykernel_launcher.py:21: SettingWithCopyWarning: \n",
      "A value is trying to be set on a copy of a slice from a DataFrame.\n",
      "Try using .loc[row_indexer,col_indexer] = value instead\n",
      "\n",
      "See the caveats in the documentation: https://pandas.pydata.org/pandas-docs/stable/user_guide/indexing.html#returning-a-view-versus-a-copy\n"
     ]
    }
   ],
   "source": [
    "data_total_income_dict = data[['total_income', 'debt']]\n",
    "\n",
    "total_income_percentile_20 = int(np.percentile(data_total_income_dict['total_income'], 20))\n",
    "total_income_percentile_40 = int(np.percentile(data_total_income_dict['total_income'], 40))\n",
    "total_income_percentile_60 = int(np.percentile(data_total_income_dict['total_income'], 60))\n",
    "total_income_percentile_80 = int(np.percentile(data_total_income_dict['total_income'], 70))\n",
    "total_income_percentile_100 = int(np.percentile(data_total_income_dict['total_income'], 100))\n",
    "\n",
    "def income_level(income):\n",
    "    if income <= total_income_percentile_20:\n",
    "        return 'низкий'\n",
    "    if income > total_income_percentile_20 and income <= total_income_percentile_40:\n",
    "        return 'ниже среднего'\n",
    "    if income > total_income_percentile_40 and income <= total_income_percentile_60:\n",
    "        return 'средний'\n",
    "    if income > total_income_percentile_60 and income <= total_income_percentile_80:\n",
    "        return 'выше среднего'\n",
    "    if income > total_income_percentile_80 and income <= total_income_percentile_100:\n",
    "        return 'высокий'\n",
    "    \n",
    "data_total_income_dict['income_level'] = data_total_income_dict['total_income'].apply(income_level)"
   ]
  },
  {
   "cell_type": "code",
   "execution_count": 45,
   "metadata": {},
   "outputs": [],
   "source": [
    "percentile_20_debt_0 = (data_total_income_dict\n",
    "                        [(data_total_income_dict['income_level'] == 'низкий')\n",
    "                         &(data_total_income_dict['debt'] == 0)]['total_income'].count())\n",
    "percentile_20_debt_1 = (data_total_income_dict\n",
    "                        [(data_total_income_dict['income_level'] == 'низкий')\n",
    "                         &(data_total_income_dict['debt'] == 1)]['total_income'].count())\n",
    "\n",
    "percentile_40_debt_0 = (data_total_income_dict\n",
    "                        [(data_total_income_dict['income_level'] == 'ниже среднего')\n",
    "                         &(data_total_income_dict['debt'] == 0)]['total_income'].count())\n",
    "percentile_40_debt_1 = (data_total_income_dict\n",
    "                        [(data_total_income_dict['income_level'] == 'ниже среднего')\n",
    "                         &(data_total_income_dict['debt'] == 1)]['total_income'].count())\n",
    "\n",
    "percentile_60_debt_0 = (data_total_income_dict\n",
    "                        [(data_total_income_dict['income_level'] == 'средний')\n",
    "                         &(data_total_income_dict['debt'] == 0)]['total_income'].count())\n",
    "percentile_60_debt_1 = (data_total_income_dict\n",
    "                        [(data_total_income_dict['income_level'] == 'средний')\n",
    "                         &(data_total_income_dict['debt'] == 1)]['total_income'].count())\n",
    "\n",
    "percentile_80_debt_0 = (data_total_income_dict\n",
    "                        [(data_total_income_dict['income_level'] == 'выше среднего')\n",
    "                         &(data_total_income_dict['debt'] == 0)]['total_income'].count())\n",
    "percentile_80_debt_1 = (data_total_income_dict\n",
    "                        [(data_total_income_dict['income_level'] == 'выше среднего')\n",
    "                         &(data_total_income_dict['debt'] == 1)]['total_income'].count())\n",
    "\n",
    "percentile_100_debt_0 = (data_total_income_dict\n",
    "                         [(data_total_income_dict['income_level'] == 'высокий')\n",
    "                          &(data_total_income_dict['debt'] == 0)]['total_income'].count())\n",
    "percentile_100_debt_1 = (data_total_income_dict\n",
    "                         [(data_total_income_dict['income_level'] == 'высокий')\n",
    "                          &(data_total_income_dict['debt'] == 1)]['total_income'].count())"
   ]
  },
  {
   "cell_type": "markdown",
   "metadata": {},
   "source": [
    "4. \"Как разные цели кредита влияют на его возврат в срок?\""
   ]
  },
  {
   "cell_type": "code",
   "execution_count": 46,
   "metadata": {},
   "outputs": [],
   "source": [
    "data_purpose_dict = data[['purposes_lemmatized', 'debt']]"
   ]
  },
  {
   "cell_type": "code",
   "execution_count": 47,
   "metadata": {},
   "outputs": [],
   "source": [
    "car_debt_0 = (data_purpose_dict\n",
    "              [(data_purpose_dict['purposes_lemmatized'] == 'автомобиль')\n",
    "               &(data_purpose_dict['debt'] == 0)]['purposes_lemmatized'].count())\n",
    "car_debt_1 = (data_purpose_dict\n",
    "              [(data_purpose_dict['purposes_lemmatized'] == 'автомобиль')\n",
    "               &(data_purpose_dict['debt'] == 1)]['purposes_lemmatized'].count())\n",
    "\n",
    "education_debt_0 = (data_purpose_dict\n",
    "                    [(data_purpose_dict['purposes_lemmatized'] == 'образование')\n",
    "                     &(data_purpose_dict['debt'] == 0)]['purposes_lemmatized'].count())\n",
    "education_debt_1 = (data_purpose_dict\n",
    "                    [(data_purpose_dict['purposes_lemmatized'] == 'образование')\n",
    "                     &(data_purpose_dict['debt'] == 1)]['purposes_lemmatized'].count())\n",
    "\n",
    "wedding_debt_0 = (data_purpose_dict\n",
    "                  [(data_purpose_dict['purposes_lemmatized'] == 'свадьба')\n",
    "                   &(data_purpose_dict['debt'] == 0)]['purposes_lemmatized'].count())\n",
    "wedding_debt_1 = (data_purpose_dict\n",
    "                  [(data_purpose_dict['purposes_lemmatized'] == 'свадьба')\n",
    "                   &(data_purpose_dict['debt'] == 1)]['purposes_lemmatized'].count())\n",
    "\n",
    "property_debt_0 = (data_purpose_dict\n",
    "                   [(data_purpose_dict['purposes_lemmatized'] == 'недвижимость')\n",
    "                    &(data_purpose_dict['debt'] == 0)]['purposes_lemmatized'].count())\n",
    "property_debt_1 = (data_purpose_dict\n",
    "                   [(data_purpose_dict['purposes_lemmatized'] == 'недвижимость')\n",
    "                    &(data_purpose_dict['debt'] == 1)]['purposes_lemmatized'].count())\n",
    "\n",
    "accommodation_debt_0 = (data_purpose_dict\n",
    "                        [(data_purpose_dict['purposes_lemmatized'] == 'жилье')\n",
    "                         &(data_purpose_dict['debt'] == 0)]['purposes_lemmatized'].count())\n",
    "accommodation_debt_1 = (data_purpose_dict\n",
    "                        [(data_purpose_dict['purposes_lemmatized'] == 'жилье')\n",
    "                         &(data_purpose_dict['debt'] == 1)]['purposes_lemmatized'].count())"
   ]
  },
  {
   "cell_type": "markdown",
   "metadata": {},
   "source": [
    "### Вывод"
   ]
  },
  {
   "cell_type": "markdown",
   "metadata": {},
   "source": [
    "Для ответа на вопросы потребуется использование четырёх словарей:\n",
    "- Для установления зависимости между наличием детей и возвратом кредита в срок удобнее всего разделить выборку на 2 большие группы. В первую группу следует определить тех клиентов, у которых есть дети, во вторую — тех, у кого детей нет;\n",
    "\n",
    "\n",
    "- Словарь, в который включён столбец, содержащий семейное положение, не требует дополнений;\n",
    "\n",
    "\n",
    "- Для выявления зависимости между уровнем дохода и возвратом кредита в срок необходимо разделить клиентов по уровню дохода, так как значений в столбце *'total_income'* слишком много. Было принято решение разбить выборку на 5 групп с применением двадцатого, сорокового, шестидесятого, восьмидесятого и сотого процентилей;\n",
    "\n",
    "\n",
    "- Для исследования влияния разных целей кредита на его своевременный возврат достаточно лемматизированных значений, занесённых в столбец *'purpose_lemmatized'*."
   ]
  },
  {
   "cell_type": "markdown",
   "metadata": {},
   "source": [
    "### 3. Вопросы"
   ]
  },
  {
   "cell_type": "markdown",
   "metadata": {},
   "source": [
    "**1. Есть ли зависимость между наличием детей и возвратом кредита в срок?**"
   ]
  },
  {
   "cell_type": "markdown",
   "metadata": {},
   "source": [
    "Узнаем, насколько отличаются доли должников среди клиентов, имеющих минимум одного ребёнка, и клиентов, не имеющих детей:"
   ]
  },
  {
   "cell_type": "code",
   "execution_count": 48,
   "metadata": {},
   "outputs": [
    {
     "name": "stdout",
     "output_type": "stream",
     "text": [
      "Доля должников среди клиентов, имеющих детей: 10.14%\n",
      "Доля должников среди клиентов, не имеющих детей: 8.16%\n"
     ]
    }
   ],
   "source": [
    "print('Доля должников среди клиентов, имеющих детей: {:.2%}'\n",
    "      .format(children_1_debt_1/children_1_debt_0))\n",
    "print('Доля должников среди клиентов, не имеющих детей: {:.2%}'\n",
    "      .format(children_0_debt_1/children_0_debt_0))"
   ]
  },
  {
   "cell_type": "markdown",
   "metadata": {},
   "source": [
    "### Вывод"
   ]
  },
  {
   "cell_type": "markdown",
   "metadata": {},
   "source": [
    "Доля должников выше среди клиентов, у которых есть дети."
   ]
  },
  {
   "cell_type": "markdown",
   "metadata": {},
   "source": [
    "**2. Есть ли зависимость между семейным положением и возвратом кредита в срок?**"
   ]
  },
  {
   "cell_type": "markdown",
   "metadata": {},
   "source": [
    "Выведем на экран процент должников в каждой из категорий:"
   ]
  },
  {
   "cell_type": "code",
   "execution_count": 49,
   "metadata": {},
   "outputs": [
    {
     "name": "stdout",
     "output_type": "stream",
     "text": [
      "Доля должников среди неженатых клиентов: 10.83%\n",
      "Доля должников среди клиентов, состоящих в гражданском браке: 10.31%\n",
      "Доля должников среди женатых клиентов: 8.16%\n",
      "Доля должников среди разведённых клиентов: 7.73%\n",
      "Доля должников среди овдовевших клиентов: 6.95%\n"
     ]
    }
   ],
   "source": [
    "print('Доля должников среди неженатых клиентов: {:.2%}'\n",
    "      .format(single_debt_1/single_debt_0))\n",
    "print('Доля должников среди клиентов, состоящих в гражданском браке: {:.2%}'\n",
    "      .format(civil_marriage_debt_1/civil_marriage_debt_0))\n",
    "print('Доля должников среди женатых клиентов: {:.2%}'\n",
    "      .format(married_debt_1/married_debt_0))\n",
    "print('Доля должников среди разведённых клиентов: {:.2%}'\n",
    "      .format(divorced_debt_1/divorced_debt_0))\n",
    "print('Доля должников среди овдовевших клиентов: {:.2%}'\n",
    "      .format(widower_debt_1/widower_debt_0))"
   ]
  },
  {
   "cell_type": "markdown",
   "metadata": {},
   "source": [
    "### Вывод"
   ]
  },
  {
   "cell_type": "markdown",
   "metadata": {},
   "source": [
    "Вероятность возврата кредита в срок выше всего среди овдовевших и разведённых клиентов, ниже всего — среди неженатых и состоящих в гражданском браке."
   ]
  },
  {
   "cell_type": "markdown",
   "metadata": {},
   "source": [
    "**3. Есть ли зависимость между уровнем дохода и возвратом кредита в срок?**"
   ]
  },
  {
   "cell_type": "markdown",
   "metadata": {},
   "source": [
    "Вычислим процент должников для каждой из пяти групп:"
   ]
  },
  {
   "cell_type": "code",
   "execution_count": 50,
   "metadata": {},
   "outputs": [
    {
     "name": "stdout",
     "output_type": "stream",
     "text": [
      "Доля должников среди клиентов с низким уровнем дохода: 8.73%\n",
      "Доля должников среди клиентов с уровнем дохода ниже среднего: 8.98%\n",
      "Доля должников среди клиентов со средним уровнем дохода: 9.49%\n",
      "Доля должников среди клиентов с уровнем дохода выше среднего: 9.71%\n",
      "Доля должников среди клиентов с высоким уровнем дохода: 8.08%\n"
     ]
    }
   ],
   "source": [
    "print('Доля должников среди клиентов с низким уровнем дохода: {:.2%}'\n",
    "      .format(percentile_20_debt_1/percentile_20_debt_0))\n",
    "print('Доля должников среди клиентов с уровнем дохода ниже среднего: {:.2%}'\n",
    "      .format(percentile_40_debt_1/percentile_40_debt_0))\n",
    "print('Доля должников среди клиентов со средним уровнем дохода: {:.2%}'\n",
    "      .format(percentile_60_debt_1/percentile_60_debt_0))\n",
    "print('Доля должников среди клиентов с уровнем дохода выше среднего: {:.2%}'\n",
    "      .format(percentile_80_debt_1/percentile_80_debt_0))\n",
    "print('Доля должников среди клиентов с высоким уровнем дохода: {:.2%}'\n",
    "      .format(percentile_100_debt_1/percentile_100_debt_0))"
   ]
  },
  {
   "cell_type": "markdown",
   "metadata": {},
   "source": [
    "### Вывод"
   ]
  },
  {
   "cell_type": "markdown",
   "metadata": {},
   "source": [
    "Обнаружена тенденция к снижению вероятности возврата кредита в срок с ростом уровня дохода. Однако клиенты с самым высоким уровнем дохода, напротив, возвращают кредит вовремя чаще."
   ]
  },
  {
   "cell_type": "markdown",
   "metadata": {},
   "source": [
    "**4. Как разные цели кредита влияют на его возврат в срок?**"
   ]
  },
  {
   "cell_type": "code",
   "execution_count": 51,
   "metadata": {},
   "outputs": [
    {
     "name": "stdout",
     "output_type": "stream",
     "text": [
      "Доля должников среди клиентов, которые взяли кредит для покупки автомобиля: 10.30%\n",
      "Доля должников среди клиентов, которые взяли кредит для получения образования: 10.21%\n",
      "Доля должников среди клиентов, которые взяли кредит для организации свадьбы: 8.65%\n",
      "Доля должников среди клиентов, которые взяли кредит для покупки недвижимости: 8.08%\n",
      "Доля должников среди клиентов, которые взяли кредит для покупки жилья: 7.41%\n"
     ]
    }
   ],
   "source": [
    "print('Доля должников среди клиентов, которые взяли кредит для покупки автомобиля: {:.2%}'\n",
    "      .format(car_debt_1/car_debt_0))\n",
    "print('Доля должников среди клиентов, которые взяли кредит для получения образования: {:.2%}'\n",
    "      .format(education_debt_1/education_debt_0))\n",
    "print('Доля должников среди клиентов, которые взяли кредит для организации свадьбы: {:.2%}'\n",
    "      .format(wedding_debt_1/wedding_debt_0 ))\n",
    "print('Доля должников среди клиентов, которые взяли кредит для покупки недвижимости: {:.2%}'\n",
    "      .format(property_debt_1/property_debt_0))\n",
    "print('Доля должников среди клиентов, которые взяли кредит для покупки жилья: {:.2%}'\n",
    "      .format(accommodation_debt_1/accommodation_debt_0))"
   ]
  },
  {
   "cell_type": "markdown",
   "metadata": {},
   "source": [
    "### Вывод"
   ]
  },
  {
   "cell_type": "markdown",
   "metadata": {},
   "source": [
    "Те клиенты, которые брали кредиты для приобретения жилья и недвижимости, возвращали их в срок чаще. Среди клиентов, взявших кредит для покупки автомобиля и для получения образования, напротив, должников больше."
   ]
  },
  {
   "cell_type": "markdown",
   "metadata": {},
   "source": [
    "### 4. Общий вывод"
   ]
  },
  {
   "cell_type": "markdown",
   "metadata": {},
   "source": [
    "Анализ данных выявил факторы, влияющие на вероятность своевременного возврата кредита.\n",
    "Данная вероятность выше всего среди клиентов, у которых нет детей, нет супруги / супруга, уровень дохода низкий или ниже среднего. Приобретение жилья и недвижимости — цели кредита, также способствующие своевременному возврату."
   ]
  }
 ],
 "metadata": {
  "kernelspec": {
   "display_name": "Python 3",
   "language": "python",
   "name": "python3"
  },
  "language_info": {
   "codemirror_mode": {
    "name": "ipython",
    "version": 3
   },
   "file_extension": ".py",
   "mimetype": "text/x-python",
   "name": "python",
   "nbconvert_exporter": "python",
   "pygments_lexer": "ipython3",
   "version": "3.7.6"
  }
 },
 "nbformat": 4,
 "nbformat_minor": 2
}
